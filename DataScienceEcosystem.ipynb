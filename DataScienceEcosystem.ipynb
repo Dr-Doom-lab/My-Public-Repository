{
 "cells": [
  {
   "cell_type": "markdown",
   "id": "3213e8cf-8c2d-4cf9-8072-21181788b335",
   "metadata": {},
   "source": [
    "# Data Science Tools and Ecosystem"
   ]
  },
  {
   "cell_type": "markdown",
   "id": "61918930-2fc0-4e26-8c1b-e0e80ec48672",
   "metadata": {},
   "source": [
    "### In this notebook, Data Science Tools and Ecosystem are summarized."
   ]
  },
  {
   "cell_type": "markdown",
   "id": "16c3c1fd-d5a4-4f80-bd97-5ac84793722f",
   "metadata": {},
   "source": [
    "**Objectives:**\n",
    "+ Some popular languages in Data Science\n",
    "+ Some commonly use Librabries in Data Science \n",
    "+ Some arithmetic expressions in Python"
   ]
  },
  {
   "cell_type": "markdown",
   "id": "fbe2299a-08e8-4853-b535-3d68589d1428",
   "metadata": {},
   "source": [
    "#### Some of the popular languages that Data Scientists use are:\n",
    "1. Python\n",
    "2. R\n",
    "3. SQL\n"
   ]
  },
  {
   "cell_type": "markdown",
   "id": "9b152867-2689-44ce-9dce-64c89a885851",
   "metadata": {},
   "source": [
    "#### Some of the commonly used libraries used by Data Scientists include:\n",
    "1. Numpy\n",
    "2. Panda\n",
    "3. Apache Spark \n"
   ]
  },
  {
   "cell_type": "markdown",
   "id": "9ccfc356-0b46-46e6-b15c-b63c20079048",
   "metadata": {},
   "source": [
    "|Data Science Tools|\n",
    "-----------------\n",
    "|My SQL|\n",
    "|Apache Airflow|\n",
    "|Pixie Dust|\n"
   ]
  },
  {
   "cell_type": "markdown",
   "id": "863d50cb-bf52-4dd5-8836-0a4196505235",
   "metadata": {},
   "source": [
    "### Below are a few examples of evaluating arithmetic expressions in Python."
   ]
  },
  {
   "cell_type": "code",
   "execution_count": 11,
   "id": "f0d09755-29b0-464d-b518-2319dd722c1f",
   "metadata": {},
   "outputs": [
    {
     "data": {
      "text/plain": [
       "17"
      ]
     },
     "execution_count": 11,
     "metadata": {},
     "output_type": "execute_result"
    }
   ],
   "source": [
    "(3*4)+5"
   ]
  },
  {
   "cell_type": "code",
   "execution_count": 13,
   "id": "1c53e7d8-270b-4d87-b59d-21a14ba13c1f",
   "metadata": {},
   "outputs": [
    {
     "data": {
      "text/plain": [
       "3.3333333333333335"
      ]
     },
     "execution_count": 13,
     "metadata": {},
     "output_type": "execute_result"
    }
   ],
   "source": [
    "# This will convert 200 minutes to hours by diving by 60\n",
    "200/60"
   ]
  },
  {
   "cell_type": "markdown",
   "id": "3d1d14dd-7f51-4d3a-86b5-e5d479f3e437",
   "metadata": {},
   "source": [
    "## Author\n",
    " Bilal Nadeem"
   ]
  },
  {
   "cell_type": "code",
   "execution_count": null,
   "id": "1b05d755-70e1-4185-8d53-483fc8b95031",
   "metadata": {},
   "outputs": [],
   "source": []
  }
 ],
 "metadata": {
  "kernelspec": {
   "display_name": "Python 3 (ipykernel)",
   "language": "python",
   "name": "python3"
  },
  "language_info": {
   "codemirror_mode": {
    "name": "ipython",
    "version": 3
   },
   "file_extension": ".py",
   "mimetype": "text/x-python",
   "name": "python",
   "nbconvert_exporter": "python",
   "pygments_lexer": "ipython3",
   "version": "3.12.4"
  }
 },
 "nbformat": 4,
 "nbformat_minor": 5
}
